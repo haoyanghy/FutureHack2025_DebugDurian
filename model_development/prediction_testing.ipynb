{
 "cells": [
  {
   "cell_type": "code",
   "execution_count": null,
   "id": "76541014",
   "metadata": {},
   "outputs": [],
   "source": [
    "import torch\n",
    "import pandas as pd\n",
    "from transformers import AutoTokenizer, AutoModelForSequenceClassification\n",
    "\n",
    "device = torch.device(\"cuda\" if torch.cuda.is_available() else \"cpu\")"
   ]
  },
  {
   "cell_type": "code",
   "execution_count": null,
   "id": "bf6ca129",
   "metadata": {},
   "outputs": [
    {
     "name": "stdout",
     "output_type": "stream",
     "text": [
      "\n",
      "----------------------------------------\n",
      "Review: This product is amazing! Highly recommended.\n",
      "Predicted Label: 0 (Real)\n",
      "Confidence: [0.653107762336731, 0.34689226746559143]\n",
      "\n",
      "----------------------------------------\n",
      "Review: Awful! Completely broken after one use. Do not buy.\n",
      "Predicted Label: 0 (Real)\n",
      "Confidence: [0.8366106748580933, 0.16338935494422913]\n",
      "\n",
      "----------------------------------------\n",
      "Review: I will never stay at this hotel again.\n",
      "Predicted Label: 1 (Fake)\n",
      "Confidence: [0.3176462948322296, 0.682353675365448]\n",
      "\n",
      "----------------------------------------\n",
      "Review: Room was clean, staff were friendly and breakfast was great.\n",
      "Predicted Label: 0 (Real)\n",
      "Confidence: [0.6616242527961731, 0.3383758068084717]\n"
     ]
    }
   ],
   "source": [
    "def load_model_and_tokenizer(model_dir):\n",
    "    tokenizer = AutoTokenizer.from_pretrained(f\"{model_dir}/tokenizer\")\n",
    "    model = AutoModelForSequenceClassification.from_pretrained(model_dir)\n",
    "    model.to(device)\n",
    "    model.eval()\n",
    "    return tokenizer, model\n",
    "\n",
    "def predict_review(texts, tokenizer, model):\n",
    "    if isinstance(texts, str):\n",
    "        texts = [texts]\n",
    "\n",
    "    inputs = tokenizer(\n",
    "        texts,\n",
    "        padding=True,\n",
    "        truncation=True,\n",
    "        return_tensors=\"pt\"\n",
    "    )\n",
    "    inputs = {k: v.to(device) for k, v in inputs.items()}\n",
    "\n",
    "    with torch.no_grad():\n",
    "        outputs = model(**inputs)\n",
    "        logits = outputs.logits\n",
    "        probs = torch.softmax(logits, dim=1)\n",
    "        preds = torch.argmax(probs, dim=1)\n",
    "\n",
    "    return preds.cpu().tolist(), probs.cpu().tolist()\n",
    "\n",
    "examples = [\n",
    "    \"This product is amazing! Highly recommended.\",\n",
    "    \"Awful! Completely broken after one use. Do not buy.\",\n",
    "    \"I will never stay at this hotel again.\",\n",
    "    \"Room was clean, staff were friendly and breakfast was great.\"\n",
    "]\n",
    "\n",
    "model_paths = [\n",
    "    './fake_review_detection_model/bert-base-uncased',\n",
    "    './fake_review_detection_model/roberta-base',\n",
    "    './fake_review_detection_model/google/electra-base-discriminator'\n",
    "]\n",
    "\n",
    "results = {'text': examples}\n",
    "\n",
    "for i, path in enumerate(model_paths, 1):\n",
    "    tokenizer, model = load_model_and_tokenizer(path)\n",
    "    labels, _ = predict_review(examples, tokenizer, model)\n",
    "    results[f'model{i}'] = labels  "
   ]
  },
  {
   "cell_type": "code",
   "execution_count": null,
   "id": "6c8cfa0d",
   "metadata": {},
   "outputs": [],
   "source": [
    "df = pd.DataFrame(results)\n",
    "print(df)"
   ]
  }
 ],
 "metadata": {
  "kernelspec": {
   "display_name": "base",
   "language": "python",
   "name": "python3"
  },
  "language_info": {
   "codemirror_mode": {
    "name": "ipython",
    "version": 3
   },
   "file_extension": ".py",
   "mimetype": "text/x-python",
   "name": "python",
   "nbconvert_exporter": "python",
   "pygments_lexer": "ipython3",
   "version": "3.12.7"
  }
 },
 "nbformat": 4,
 "nbformat_minor": 5
}
