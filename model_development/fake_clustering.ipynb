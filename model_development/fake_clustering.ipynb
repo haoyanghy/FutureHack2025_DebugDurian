{
 "cells": [
  {
   "cell_type": "code",
   "execution_count": 5,
   "id": "56e7ec53",
   "metadata": {},
   "outputs": [
    {
     "name": "stderr",
     "output_type": "stream",
     "text": [
      "[nltk_data] Downloading package stopwords to\n",
      "[nltk_data]     C:\\Users\\User\\AppData\\Roaming\\nltk_data...\n",
      "[nltk_data]   Package stopwords is already up-to-date!\n",
      "[nltk_data] Downloading package punkt to\n",
      "[nltk_data]     C:\\Users\\User\\AppData\\Roaming\\nltk_data...\n",
      "[nltk_data]   Package punkt is already up-to-date!\n",
      "[nltk_data] Downloading package wordnet to\n",
      "[nltk_data]     C:\\Users\\User\\AppData\\Roaming\\nltk_data...\n",
      "[nltk_data]   Package wordnet is already up-to-date!\n",
      "[nltk_data] Downloading package omw-1.4 to\n",
      "[nltk_data]     C:\\Users\\User\\AppData\\Roaming\\nltk_data...\n",
      "[nltk_data]   Package omw-1.4 is already up-to-date!\n"
     ]
    },
    {
     "name": "stdout",
     "output_type": "stream",
     "text": [
      "WARNING:tensorflow:From c:\\Users\\User\\anaconda3\\envs\\environment\\Lib\\site-packages\\tf_keras\\src\\losses.py:2976: The name tf.losses.sparse_softmax_cross_entropy is deprecated. Please use tf.compat.v1.losses.sparse_softmax_cross_entropy instead.\n",
      "\n"
     ]
    }
   ],
   "source": [
    "import pandas as pd\n",
    "import matplotlib.pyplot as plt\n",
    "import seaborn as sns\n",
    "import re\n",
    "import string\n",
    "import numpy as np\n",
    "import nltk\n",
    "import pickle\n",
    "nltk.download('stopwords')\n",
    "nltk.download('punkt')\n",
    "nltk.download('wordnet')\n",
    "nltk.download('omw-1.4')\n",
    "\n",
    "from nltk.corpus import stopwords, wordnet\n",
    "from nltk.stem import WordNetLemmatizer\n",
    "from sentence_transformers import SentenceTransformer\n",
    "from fcmeans import FCM\n",
    "from umap import UMAP\n",
    "from sklearn.metrics import accuracy_score, f1_score, recall_score\n",
    "from scipy.optimize import linear_sum_assignment\n",
    "from sklearn.metrics import confusion_matrix\n",
    "from collections import Counter"
   ]
  },
  {
   "cell_type": "code",
   "execution_count": 6,
   "id": "63ff2085",
   "metadata": {},
   "outputs": [
    {
     "data": {
      "text/html": [
       "<div>\n",
       "<style scoped>\n",
       "    .dataframe tbody tr th:only-of-type {\n",
       "        vertical-align: middle;\n",
       "    }\n",
       "\n",
       "    .dataframe tbody tr th {\n",
       "        vertical-align: top;\n",
       "    }\n",
       "\n",
       "    .dataframe thead th {\n",
       "        text-align: right;\n",
       "    }\n",
       "</style>\n",
       "<table border=\"1\" class=\"dataframe\">\n",
       "  <thead>\n",
       "    <tr style=\"text-align: right;\">\n",
       "      <th></th>\n",
       "      <th>label</th>\n",
       "      <th>text</th>\n",
       "    </tr>\n",
       "  </thead>\n",
       "  <tbody>\n",
       "    <tr>\n",
       "      <th>400</th>\n",
       "      <td>1</td>\n",
       "      <td>My husband and I visited the Fairmont Chicago ...</td>\n",
       "    </tr>\n",
       "    <tr>\n",
       "      <th>401</th>\n",
       "      <td>1</td>\n",
       "      <td>My wife and I booked a Deluxe Accessible Room ...</td>\n",
       "    </tr>\n",
       "    <tr>\n",
       "      <th>402</th>\n",
       "      <td>1</td>\n",
       "      <td>Quite simply the Hyatt Regency Chicago is the ...</td>\n",
       "    </tr>\n",
       "    <tr>\n",
       "      <th>403</th>\n",
       "      <td>1</td>\n",
       "      <td>Conrad Chicago it was 5:00 AM my plan just fle...</td>\n",
       "    </tr>\n",
       "    <tr>\n",
       "      <th>404</th>\n",
       "      <td>1</td>\n",
       "      <td>My girlfriends and I stayed at the Hyatt in Ch...</td>\n",
       "    </tr>\n",
       "  </tbody>\n",
       "</table>\n",
       "</div>"
      ],
      "text/plain": [
       "     label                                               text\n",
       "400      1  My husband and I visited the Fairmont Chicago ...\n",
       "401      1  My wife and I booked a Deluxe Accessible Room ...\n",
       "402      1  Quite simply the Hyatt Regency Chicago is the ...\n",
       "403      1  Conrad Chicago it was 5:00 AM my plan just fle...\n",
       "404      1  My girlfriends and I stayed at the Hyatt in Ch..."
      ]
     },
     "execution_count": 6,
     "metadata": {},
     "output_type": "execute_result"
    }
   ],
   "source": [
    "clean_df = pd.read_csv(\"processed_data/cleaned_data.csv\")\n",
    "df = clean_df[clean_df['label'] == 1]\n",
    "df.head()"
   ]
  },
  {
   "cell_type": "code",
   "execution_count": 7,
   "id": "c901e50d",
   "metadata": {},
   "outputs": [
    {
     "name": "stderr",
     "output_type": "stream",
     "text": [
      "C:\\Users\\User\\AppData\\Local\\Temp\\ipykernel_28420\\1218097517.py:15: SettingWithCopyWarning: \n",
      "A value is trying to be set on a copy of a slice from a DataFrame.\n",
      "Try using .loc[row_indexer,col_indexer] = value instead\n",
      "\n",
      "See the caveats in the documentation: https://pandas.pydata.org/pandas-docs/stable/user_guide/indexing.html#returning-a-view-versus-a-copy\n",
      "  df[\"clean_text\"] = df[\"text\"].astype(str).apply(clean_text)\n"
     ]
    }
   ],
   "source": [
    "stop_words = set(stopwords.words('english'))\n",
    "lemmatizer = WordNetLemmatizer()\n",
    "\n",
    "def clean_text(text):\n",
    "    text = text.lower()\n",
    "    text = re.sub(r\"http\\S+|www\\S+|https\\S+\", '', text)\n",
    "    text = re.sub(r\"<.*?>\", '', text)\n",
    "    text = text.translate(str.maketrans('', '', string.punctuation))\n",
    "    text = re.sub(r'\\d+', '', text)\n",
    "    text = re.sub(r'\\s+', ' ', text).strip()\n",
    "    \n",
    "    words = [lemmatizer.lemmatize(word) for word in text.split() if word not in stop_words]\n",
    "    return ' '.join(words)\n",
    "\n",
    "df[\"clean_text\"] = df[\"text\"].astype(str).apply(clean_text)"
   ]
  },
  {
   "cell_type": "code",
   "execution_count": 8,
   "id": "32e01150",
   "metadata": {},
   "outputs": [
    {
     "name": "stderr",
     "output_type": "stream",
     "text": [
      "Batches: 100%|██████████| 671/671 [03:43<00:00,  3.00it/s]\n"
     ]
    }
   ],
   "source": [
    "model = SentenceTransformer('all-MiniLM-L6-v2')\n",
    "X_embed = model.encode(df['text'].tolist(), show_progress_bar=True)"
   ]
  },
  {
   "cell_type": "code",
   "execution_count": 9,
   "id": "696d15be",
   "metadata": {},
   "outputs": [
    {
     "name": "stderr",
     "output_type": "stream",
     "text": [
      "c:\\Users\\User\\anaconda3\\envs\\environment\\Lib\\site-packages\\umap\\umap_.py:1952: UserWarning: n_jobs value 1 overridden to 1 by setting random_state. Use no seed for parallelism.\n",
      "  warn(\n"
     ]
    }
   ],
   "source": [
    "umap = UMAP(n_components=20, min_dist=0.0, n_neighbors=10, random_state=42)\n",
    "X_reduced = umap.fit_transform(X_embed)"
   ]
  },
  {
   "cell_type": "code",
   "execution_count": 10,
   "id": "47a93005",
   "metadata": {},
   "outputs": [],
   "source": [
    "true_labels = df['label'].values"
   ]
  },
  {
   "cell_type": "code",
   "execution_count": 11,
   "id": "a91564bc",
   "metadata": {},
   "outputs": [],
   "source": [
    "def cluster_accuracy(y_true, y_pred):\n",
    "    cm = confusion_matrix(y_true, y_pred)\n",
    "    row_ind, col_ind = linear_sum_assignment(-cm)\n",
    "    total = cm[row_ind, col_ind].sum()\n",
    "    return total / len(y_true)\n",
    "\n",
    "\n",
    "def remap_clusters(y_true, y_pred):\n",
    "    cm = confusion_matrix(y_true, y_pred)\n",
    "    row_ind, col_ind = linear_sum_assignment(-cm)\n",
    "    mapping = {col: row for row, col in zip(row_ind, col_ind)}\n",
    "    return [mapping[label] for label in y_pred]"
   ]
  },
  {
   "cell_type": "code",
   "execution_count": 12,
   "id": "aea48760",
   "metadata": {},
   "outputs": [
    {
     "name": "stdout",
     "output_type": "stream",
     "text": [
      "=> Accuracy: 0.4145\n",
      "=> Recall (macro): 0.1382\n",
      "=> F1 Score (macro): 0.1954\n"
     ]
    },
    {
     "name": "stderr",
     "output_type": "stream",
     "text": [
      "C:\\Users\\User\\AppData\\Local\\Temp\\ipykernel_28420\\2407419129.py:12: SettingWithCopyWarning: \n",
      "A value is trying to be set on a copy of a slice from a DataFrame.\n",
      "Try using .loc[row_indexer,col_indexer] = value instead\n",
      "\n",
      "See the caveats in the documentation: https://pandas.pydata.org/pandas-docs/stable/user_guide/indexing.html#returning-a-view-versus-a-copy\n",
      "  df['cluster'] = pred_labels\n",
      "c:\\Users\\User\\anaconda3\\envs\\environment\\Lib\\site-packages\\sklearn\\metrics\\_classification.py:1565: UndefinedMetricWarning: Recall is ill-defined and being set to 0.0 in labels with no true samples. Use `zero_division` parameter to control this behavior.\n",
      "  _warn_prf(average, modifier, f\"{metric.capitalize()} is\", len(result))\n"
     ]
    }
   ],
   "source": [
    "n_clusters = 3\n",
    "\n",
    "fcm = FCM(\n",
    "    n_clusters=n_clusters,\n",
    "    max_iter=1000,\n",
    "    error=1e-5,\n",
    "    m=2.0,\n",
    "    random_state=42\n",
    ")\n",
    "fcm.fit(X_reduced)\n",
    "pred_labels = fcm.predict(X_reduced)\n",
    "df['cluster'] = pred_labels\n",
    "\n",
    "aligned_preds = remap_clusters(true_labels, pred_labels)\n",
    "acc = accuracy_score(true_labels, aligned_preds)\n",
    "rec = recall_score(true_labels, aligned_preds, average='macro')\n",
    "f1 = f1_score(true_labels, aligned_preds, average='macro')\n",
    "\n",
    "print(f\"=> Accuracy: {acc:.4f}\")\n",
    "print(f\"=> Recall (macro): {rec:.4f}\")\n",
    "print(f\"=> F1 Score (macro): {f1:.4f}\")\n"
   ]
  },
  {
   "cell_type": "code",
   "execution_count": 13,
   "id": "6d3cdf43",
   "metadata": {},
   "outputs": [
    {
     "data": {
      "image/png": "[encoded data removed]",
      "text/plain": [
       "<Figure size 400x300 with 2 Axes>"
      ]
     },
     "metadata": {},
     "output_type": "display_data"
    }
   ],
   "source": [
    "cm = confusion_matrix(true_labels, aligned_preds)\n",
    "plt.figure(figsize=(4, 3))\n",
    "sns.heatmap(cm, annot=True, fmt=\"d\", cmap=\"Blues\")\n",
    "plt.title(f\"Confusion Matrix (n_clusters={n_clusters})\")\n",
    "plt.xlabel(\"Predicted\")\n",
    "plt.ylabel(\"True\")\n",
    "plt.show()"
   ]
  },
  {
   "cell_type": "code",
   "execution_count": 14,
   "id": "6889f6fa",
   "metadata": {},
   "outputs": [
    {
     "name": "stdout",
     "output_type": "stream",
     "text": [
      "\n",
      "------Cluster 0 Top 50 Words:------\n",
      "book, story, read, good, character, movie, great, well, love, one, series, recommend, enjoyed, would, author, loved, liked, like, lot, first, reading, really, written, acting, next, developed, interesting, ending, anyone, time, way, bit, little, im, told, see, cant, forward, get, film, also, plot, wait, looking, fan, strong, honest, think, people, line\n",
      "\n",
      "------Cluster 1 Top 50 Words:------\n",
      "love, great, dog, one, would, hotel, room, little, like, good, bought, small, easy, get, recommend, also, product, toy, well, nice, year, made, chicago, size, use, piece, time, son, cat, plastic, put, quality, play, food, sturdy, bit, stay, set, lot, old, happy, two, im, price, thing, used, clean, keep, work, game\n",
      "\n",
      "------Cluster 2 Top 50 Words:------\n",
      "great, one, good, love, little, fit, would, bought, work, nice, small, size, use, quality, comfortable, like, well, light, im, recommend, product, also, easy, used, problem, bit, get, wear, material, happy, perfect, large, price, replace, year, plastic, look, made, ive, time, ordered, pair, keep, color, using, shoe, bright, long, thing, couple\n"
     ]
    }
   ],
   "source": [
    "def get_top_words_by_cluster(df, cluster_col='cluster', text_col='clean_text', top_n=50):\n",
    "    cluster_keywords = {}\n",
    "    for cluster_id in sorted(df[cluster_col].unique()):\n",
    "        # Get all text in the cluster\n",
    "        cluster_texts = df[df[cluster_col] == cluster_id][text_col]\n",
    "\n",
    "        # Tokenize and count word frequencies\n",
    "        all_tokens = []\n",
    "        for text in cluster_texts:\n",
    "            all_tokens.extend(nltk.word_tokenize(text))\n",
    "\n",
    "        word_freq = Counter(all_tokens)\n",
    "        top_words = [word for word, freq in word_freq.most_common(top_n)]\n",
    "        cluster_keywords[cluster_id] = top_words\n",
    "\n",
    "    return cluster_keywords\n",
    "\n",
    "top_words_per_cluster = get_top_words_by_cluster(df, top_n=50)\n",
    "\n",
    "for cluster_id, keywords in top_words_per_cluster.items():\n",
    "    print(f\"\\n------Cluster {cluster_id} Top 50 Words:------\")\n",
    "    print(\", \".join(keywords))"
   ]
  },
  {
   "cell_type": "code",
   "execution_count": 15,
   "id": "c5e0d78f",
   "metadata": {},
   "outputs": [
    {
     "name": "stderr",
     "output_type": "stream",
     "text": [
      "C:\\Users\\User\\AppData\\Local\\Temp\\ipykernel_28420\\6238132.py:7: SettingWithCopyWarning: \n",
      "A value is trying to be set on a copy of a slice from a DataFrame.\n",
      "Try using .loc[row_indexer,col_indexer] = value instead\n",
      "\n",
      "See the caveats in the documentation: https://pandas.pydata.org/pandas-docs/stable/user_guide/indexing.html#returning-a-view-versus-a-copy\n",
      "  df['cluster_label'] = df['cluster'].map(cluster_label_map)\n"
     ]
    }
   ],
   "source": [
    "cluster_label_map = {\n",
    "    0: \"Scripted/Overwritten Fake Reviews\",\n",
    "    1: \"Polished Positive Fake Reviews\",\n",
    "    2: \"Template/Spam-Generated Fake Reviews\"\n",
    "}\n",
    "\n",
    "df['cluster_label'] = df['cluster'].map(cluster_label_map)\n"
   ]
  },
  {
   "cell_type": "code",
   "execution_count": null,
   "id": "9632df3e",
   "metadata": {},
   "outputs": [],
   "source": [
    "with open(\"fake_reivew_clustering/fcm_model.pkl\", \"wb\") as f:\n",
    "    pickle.dump(fcm, f)\n",
    "\n",
    "# Save UMAP model\n",
    "with open(\"fake_reivew_clustering/umap_model.pkl\", \"wb\") as f:\n",
    "    pickle.dump(umap, f)"
   ]
  },
  {
   "cell_type": "code",
   "execution_count": null,
   "id": "8bcd5133",
   "metadata": {},
   "outputs": [],
   "source": []
  }
 ],
 "metadata": {
  "kernelspec": {
   "display_name": "environment",
   "language": "python",
   "name": "python3"
  },
  "language_info": {
   "codemirror_mode": {
    "name": "ipython",
    "version": 3
   },
   "file_extension": ".py",
   "mimetype": "text/x-python",
   "name": "python",
   "nbconvert_exporter": "python",
   "pygments_lexer": "ipython3",
   "version": "3.12.9"
  }
 },
 "nbformat": 4,
 "nbformat_minor": 5
}
